{
  "nbformat": 4,
  "nbformat_minor": 0,
  "metadata": {
    "colab": {
      "name": "Using compact.ipynb",
      "version": "0.3.2",
      "provenance": [],
      "collapsed_sections": [],
      "include_colab_link": true
    },
    "kernelspec": {
      "name": "python3",
      "display_name": "Python 3"
    }
  },
  "cells": [
    {
      "cell_type": "markdown",
      "metadata": {
        "id": "view-in-github",
        "colab_type": "text"
      },
      "source": [
        "<a href=\"https://colab.research.google.com/github/dantecomedia/demo/blob/master/Churmodelling_Using_compact.ipynb\" target=\"_parent\"><img src=\"https://colab.research.google.com/assets/colab-badge.svg\" alt=\"Open In Colab\"/></a>"
      ]
    },
    {
      "metadata": {
        "id": "XVzF5_q51yYX",
        "colab_type": "code",
        "outputId": "86e62ab7-1c41-490a-fd67-3114c7f12356",
        "colab": {
          "base_uri": "https://localhost:8080/",
          "height": 4450
        }
      },
      "cell_type": "code",
      "source": [
        "# Importing the libraries\n",
        "import numpy as np\n",
        "import matplotlib.pyplot as plt\n",
        "import pandas as pd\n",
        "# Importing the dataset\n",
        "dataset = pd.read_csv('Churn_Modelling.csv')\n",
        "X = dataset.iloc[:, 3:13].values\n",
        "y = dataset.iloc[:, 13].values\n",
        "\n",
        "from sklearn.preprocessing import LabelEncoder, OneHotEncoder\n",
        "labelencoder_X_1 = LabelEncoder()\n",
        "X[:, 1] = labelencoder_X_1.fit_transform(X[:, 1])\n",
        "labelencoder_X_2 = LabelEncoder()\n",
        "X[:, 2] = labelencoder_X_2.fit_transform(X[:, 2])\n",
        "onehotencoder = OneHotEncoder(categorical_features = [1])\n",
        "X = onehotencoder.fit_transform(X).toarray()\n",
        "X = X[:, 1:]\n",
        "from sklearn.model_selection import train_test_split\n",
        "X_train,X_test,y_train,y_test=train_test_split(X,y,test_size=0.25,random_state=None)\n",
        "from sklearn.preprocessing import StandardScaler\n",
        "sc=StandardScaler()\n",
        "X_train=sc.fit_transform(X_train)\n",
        "X_test=sc.transform(X_test)\n",
        "\n",
        "#IMPORTING FEEDFORWARD\n",
        "from compact import feedforward\n",
        "\n",
        "ff=feedforward()\n",
        "#DEFINING THE FEEDFOWARD COMPACT LAYER, NUMBER OF LAYER =4 , INCLUDING THE INPUT AND OUTPUT LAYER\n",
        "ff.model(nos_layers=4,model_type='Sequential',input_dim=11,hidden_dim=6, output_dim=1,\n",
        "         init='uniform',loss='binary_crossentropy',dropout=0.2,optimizer='adam',metrics=['accuracy'],\n",
        "         hid_act='relu',out_act='linear')\n",
        "ff.detail()\n",
        "ff.fit(X_train,y_train,batch_size=10,epochs=100)\n",
        "\n",
        "y_pred=ff.predict(X_test)\n",
        "\n",
        "\n",
        "\n",
        "\n",
        "\n",
        "    \n"
      ],
      "execution_count": 0,
      "outputs": [
        {
          "output_type": "stream",
          "text": [
            "/usr/local/lib/python3.6/dist-packages/sklearn/preprocessing/_encoders.py:371: FutureWarning: The handling of integer data will change in version 0.22. Currently, the categories are determined based on the range [0, max(values)], while in the future they will be determined based on the unique values.\n",
            "If you want the future behaviour and silence this warning, you can specify \"categories='auto'\".\n",
            "In case you used a LabelEncoder before this OneHotEncoder to convert the categories to integers, then you can now use the OneHotEncoder directly.\n",
            "  warnings.warn(msg, FutureWarning)\n",
            "/usr/local/lib/python3.6/dist-packages/sklearn/preprocessing/_encoders.py:392: DeprecationWarning: The 'categorical_features' keyword is deprecated in version 0.20 and will be removed in 0.22. You can use the ColumnTransformer instead.\n",
            "  \"use the ColumnTransformer instead.\", DeprecationWarning)\n"
          ],
          "name": "stderr"
        },
        {
          "output_type": "stream",
          "text": [
            "WARNING:tensorflow:From /usr/local/lib/python3.6/dist-packages/tensorflow/python/framework/op_def_library.py:263: colocate_with (from tensorflow.python.framework.ops) is deprecated and will be removed in a future version.\n",
            "Instructions for updating:\n",
            "Colocations handled automatically by placer.\n",
            "WARNING:tensorflow:From /usr/local/lib/python3.6/dist-packages/keras/backend/tensorflow_backend.py:3445: calling dropout (from tensorflow.python.ops.nn_ops) with keep_prob is deprecated and will be removed in a future version.\n",
            "Instructions for updating:\n",
            "Please use `rate` instead of `keep_prob`. Rate should be set to `rate = 1 - keep_prob`.\n"
          ],
          "name": "stdout"
        },
        {
          "output_type": "stream",
          "text": [
            "Using TensorFlow backend.\n",
            "/content/compact.py:28: UserWarning: Update your `Dense` call to the Keras 2 API: `Dense(activation=\"relu\", input_dim=11, units=6, kernel_initializer=\"uniform\")`\n",
            "  models.add(Dense(output_dim = hidden_dim, init = init , activation = hid_act, input_dim = input_dim)) #first hidden layer\n",
            "/content/compact.py:29: UserWarning: Update your `Dropout` call to the Keras 2 API: `Dropout(rate=0.2)`\n",
            "  models.add(Dropout(p=dropout))\n",
            "/content/compact.py:32: UserWarning: Update your `Dense` call to the Keras 2 API: `Dense(activation=\"relu\", units=6, kernel_initializer=\"uniform\")`\n",
            "  models.add(Dense(output_dim =hidden_dim , init = init, activation = hid_act))\n",
            "/content/compact.py:33: UserWarning: Update your `Dropout` call to the Keras 2 API: `Dropout(rate=0.2)`\n",
            "  models.add(Dropout(p=dropout))\n",
            "/content/compact.py:34: UserWarning: Update your `Dense` call to the Keras 2 API: `Dense(activation=\"linear\", units=1, kernel_initializer=\"uniform\")`\n",
            "  models.add(Dense(output_dim = output_dim, init = init, activation = out_act))\n"
          ],
          "name": "stderr"
        },
        {
          "output_type": "stream",
          "text": [
            "_________________________________________________________________\n",
            "Layer (type)                 Output Shape              Param #   \n",
            "=================================================================\n",
            "dense_1 (Dense)              (None, 6)                 72        \n",
            "_________________________________________________________________\n",
            "dropout_1 (Dropout)          (None, 6)                 0         \n",
            "_________________________________________________________________\n",
            "dense_2 (Dense)              (None, 6)                 42        \n",
            "_________________________________________________________________\n",
            "dropout_2 (Dropout)          (None, 6)                 0         \n",
            "_________________________________________________________________\n",
            "dense_3 (Dense)              (None, 6)                 42        \n",
            "_________________________________________________________________\n",
            "dropout_3 (Dropout)          (None, 6)                 0         \n",
            "_________________________________________________________________\n",
            "dense_4 (Dense)              (None, 1)                 7         \n",
            "=================================================================\n",
            "Total params: 163\n",
            "Trainable params: 163\n",
            "Non-trainable params: 0\n",
            "_________________________________________________________________\n",
            "WARNING:tensorflow:From /usr/local/lib/python3.6/dist-packages/tensorflow/python/ops/math_ops.py:3066: to_int32 (from tensorflow.python.ops.math_ops) is deprecated and will be removed in a future version.\n",
            "Instructions for updating:\n",
            "Use tf.cast instead.\n",
            "Epoch 1/100\n",
            "7500/7500 [==============================] - 1s 182us/step - loss: 0.6146 - acc: 0.8005\n",
            "Epoch 2/100\n",
            "7500/7500 [==============================] - 1s 133us/step - loss: 0.4646 - acc: 0.8033\n",
            "Epoch 3/100\n",
            "7500/7500 [==============================] - 1s 137us/step - loss: 0.4477 - acc: 0.8080\n",
            "Epoch 4/100\n",
            "7500/7500 [==============================] - 1s 135us/step - loss: 0.4417 - acc: 0.8135\n",
            "Epoch 5/100\n",
            "7500/7500 [==============================] - 1s 134us/step - loss: 0.4310 - acc: 0.8136\n",
            "Epoch 6/100\n",
            "7500/7500 [==============================] - 1s 135us/step - loss: 0.4296 - acc: 0.8151\n",
            "Epoch 7/100\n",
            "7500/7500 [==============================] - 1s 133us/step - loss: 0.4373 - acc: 0.8197\n",
            "Epoch 8/100\n",
            "7500/7500 [==============================] - 1s 134us/step - loss: 0.4495 - acc: 0.8169\n",
            "Epoch 9/100\n",
            "7500/7500 [==============================] - 1s 137us/step - loss: 0.4336 - acc: 0.8160\n",
            "Epoch 10/100\n",
            "7500/7500 [==============================] - 1s 134us/step - loss: 0.4202 - acc: 0.8215\n",
            "Epoch 11/100\n",
            "7500/7500 [==============================] - 1s 135us/step - loss: 0.4086 - acc: 0.8251\n",
            "Epoch 12/100\n",
            "7500/7500 [==============================] - 1s 136us/step - loss: 0.4059 - acc: 0.8231\n",
            "Epoch 13/100\n",
            "7500/7500 [==============================] - 1s 137us/step - loss: 0.4037 - acc: 0.8248\n",
            "Epoch 14/100\n",
            "7500/7500 [==============================] - 1s 133us/step - loss: 0.4121 - acc: 0.8267\n",
            "Epoch 15/100\n",
            "7500/7500 [==============================] - 1s 132us/step - loss: 0.4026 - acc: 0.8265\n",
            "Epoch 16/100\n",
            "7500/7500 [==============================] - 1s 133us/step - loss: 0.4067 - acc: 0.8251\n",
            "Epoch 17/100\n",
            "7500/7500 [==============================] - 1s 133us/step - loss: 0.4061 - acc: 0.8256\n",
            "Epoch 18/100\n",
            "7500/7500 [==============================] - 1s 134us/step - loss: 0.4076 - acc: 0.8248\n",
            "Epoch 19/100\n",
            "7500/7500 [==============================] - 1s 132us/step - loss: 0.3992 - acc: 0.8255\n",
            "Epoch 20/100\n",
            "7500/7500 [==============================] - 1s 133us/step - loss: 0.4151 - acc: 0.8220\n",
            "Epoch 21/100\n",
            "7500/7500 [==============================] - 1s 132us/step - loss: 0.4039 - acc: 0.8272\n",
            "Epoch 22/100\n",
            "7500/7500 [==============================] - 1s 131us/step - loss: 0.4055 - acc: 0.8264\n",
            "Epoch 23/100\n",
            "7500/7500 [==============================] - 1s 131us/step - loss: 0.4034 - acc: 0.8233\n",
            "Epoch 24/100\n",
            "7500/7500 [==============================] - 1s 132us/step - loss: 0.4075 - acc: 0.8205\n",
            "Epoch 25/100\n",
            "7500/7500 [==============================] - 1s 132us/step - loss: 0.4048 - acc: 0.8207\n",
            "Epoch 26/100\n",
            "7500/7500 [==============================] - 1s 135us/step - loss: 0.4023 - acc: 0.8220\n",
            "Epoch 27/100\n",
            "7500/7500 [==============================] - 1s 137us/step - loss: 0.3966 - acc: 0.8288\n",
            "Epoch 28/100\n",
            "7500/7500 [==============================] - 1s 133us/step - loss: 0.4036 - acc: 0.8249\n",
            "Epoch 29/100\n",
            "7500/7500 [==============================] - 1s 134us/step - loss: 0.4088 - acc: 0.8236\n",
            "Epoch 30/100\n",
            "7500/7500 [==============================] - 1s 134us/step - loss: 0.4066 - acc: 0.8295\n",
            "Epoch 31/100\n",
            "7500/7500 [==============================] - 1s 140us/step - loss: 0.4064 - acc: 0.8228\n",
            "Epoch 32/100\n",
            "7500/7500 [==============================] - 1s 132us/step - loss: 0.3950 - acc: 0.8253\n",
            "Epoch 33/100\n",
            "7500/7500 [==============================] - 1s 135us/step - loss: 0.3965 - acc: 0.8232\n",
            "Epoch 34/100\n",
            "7500/7500 [==============================] - 1s 137us/step - loss: 0.4034 - acc: 0.8189\n",
            "Epoch 35/100\n",
            "7500/7500 [==============================] - 1s 136us/step - loss: 0.4102 - acc: 0.8228\n",
            "Epoch 36/100\n",
            "7500/7500 [==============================] - 1s 134us/step - loss: 0.4098 - acc: 0.8260\n",
            "Epoch 37/100\n",
            "7500/7500 [==============================] - 1s 133us/step - loss: 0.4019 - acc: 0.8273\n",
            "Epoch 38/100\n",
            "7500/7500 [==============================] - 1s 133us/step - loss: 0.4098 - acc: 0.8259\n",
            "Epoch 39/100\n",
            "7500/7500 [==============================] - 1s 135us/step - loss: 0.4023 - acc: 0.8243\n",
            "Epoch 40/100\n",
            "7500/7500 [==============================] - 1s 135us/step - loss: 0.3994 - acc: 0.8267\n",
            "Epoch 41/100\n",
            "7500/7500 [==============================] - 1s 135us/step - loss: 0.4008 - acc: 0.8300\n",
            "Epoch 42/100\n",
            "7500/7500 [==============================] - 1s 137us/step - loss: 0.3984 - acc: 0.8268\n",
            "Epoch 43/100\n",
            "7500/7500 [==============================] - 1s 135us/step - loss: 0.3999 - acc: 0.8243\n",
            "Epoch 44/100\n",
            "7500/7500 [==============================] - 1s 134us/step - loss: 0.4003 - acc: 0.8259\n",
            "Epoch 45/100\n",
            "7500/7500 [==============================] - 1s 134us/step - loss: 0.3935 - acc: 0.8276\n",
            "Epoch 46/100\n",
            "7500/7500 [==============================] - 1s 134us/step - loss: 0.4095 - acc: 0.8239\n",
            "Epoch 47/100\n",
            "7500/7500 [==============================] - 1s 135us/step - loss: 0.3993 - acc: 0.8280\n",
            "Epoch 48/100\n",
            "7500/7500 [==============================] - 1s 134us/step - loss: 0.4012 - acc: 0.8272\n",
            "Epoch 49/100\n",
            "7500/7500 [==============================] - 1s 134us/step - loss: 0.3984 - acc: 0.8249\n",
            "Epoch 50/100\n",
            "7500/7500 [==============================] - 1s 134us/step - loss: 0.4048 - acc: 0.8265\n",
            "Epoch 51/100\n",
            "7500/7500 [==============================] - 1s 133us/step - loss: 0.4103 - acc: 0.8256\n",
            "Epoch 52/100\n",
            "7500/7500 [==============================] - 1s 134us/step - loss: 0.4013 - acc: 0.8268\n",
            "Epoch 53/100\n",
            "7500/7500 [==============================] - 1s 135us/step - loss: 0.4050 - acc: 0.8267\n",
            "Epoch 54/100\n",
            "7500/7500 [==============================] - 1s 135us/step - loss: 0.3966 - acc: 0.8239\n",
            "Epoch 55/100\n",
            "7500/7500 [==============================] - 1s 136us/step - loss: 0.3986 - acc: 0.8260\n",
            "Epoch 56/100\n",
            "7500/7500 [==============================] - 1s 135us/step - loss: 0.3913 - acc: 0.8301\n",
            "Epoch 57/100\n",
            "7500/7500 [==============================] - 1s 138us/step - loss: 0.4109 - acc: 0.8240\n",
            "Epoch 58/100\n",
            "7500/7500 [==============================] - 1s 138us/step - loss: 0.4037 - acc: 0.8271\n",
            "Epoch 59/100\n",
            "7500/7500 [==============================] - 1s 130us/step - loss: 0.4071 - acc: 0.8235\n",
            "Epoch 60/100\n",
            "7500/7500 [==============================] - 1s 133us/step - loss: 0.4005 - acc: 0.8256\n",
            "Epoch 61/100\n",
            "7500/7500 [==============================] - 1s 133us/step - loss: 0.4094 - acc: 0.8245\n",
            "Epoch 62/100\n",
            "7500/7500 [==============================] - 1s 134us/step - loss: 0.4097 - acc: 0.8269\n",
            "Epoch 63/100\n",
            "7500/7500 [==============================] - 1s 133us/step - loss: 0.4043 - acc: 0.8267\n",
            "Epoch 64/100\n",
            "7500/7500 [==============================] - 1s 132us/step - loss: 0.3976 - acc: 0.8251\n",
            "Epoch 65/100\n",
            "7500/7500 [==============================] - 1s 135us/step - loss: 0.4136 - acc: 0.8308\n",
            "Epoch 66/100\n",
            "7500/7500 [==============================] - 1s 135us/step - loss: 0.4086 - acc: 0.8239\n",
            "Epoch 67/100\n",
            "7500/7500 [==============================] - 1s 134us/step - loss: 0.4123 - acc: 0.8237\n",
            "Epoch 68/100\n",
            "7500/7500 [==============================] - 1s 135us/step - loss: 0.4152 - acc: 0.8289\n",
            "Epoch 69/100\n",
            "7500/7500 [==============================] - 1s 137us/step - loss: 0.4141 - acc: 0.8215\n",
            "Epoch 70/100\n",
            "7500/7500 [==============================] - 1s 137us/step - loss: 0.4017 - acc: 0.8268\n",
            "Epoch 71/100\n",
            "7500/7500 [==============================] - 1s 134us/step - loss: 0.3976 - acc: 0.8296\n",
            "Epoch 72/100\n",
            "7500/7500 [==============================] - 1s 135us/step - loss: 0.3976 - acc: 0.8308\n",
            "Epoch 73/100\n",
            "7500/7500 [==============================] - 1s 136us/step - loss: 0.4084 - acc: 0.8255\n",
            "Epoch 74/100\n",
            "7500/7500 [==============================] - 1s 139us/step - loss: 0.3997 - acc: 0.8225\n",
            "Epoch 75/100\n",
            "7500/7500 [==============================] - 1s 134us/step - loss: 0.4127 - acc: 0.8231\n",
            "Epoch 76/100\n",
            "7500/7500 [==============================] - 1s 134us/step - loss: 0.4037 - acc: 0.8295\n",
            "Epoch 77/100\n",
            "7500/7500 [==============================] - 1s 133us/step - loss: 0.3954 - acc: 0.8273\n",
            "Epoch 78/100\n",
            "7500/7500 [==============================] - 1s 135us/step - loss: 0.4071 - acc: 0.8223\n",
            "Epoch 79/100\n",
            "7500/7500 [==============================] - 1s 133us/step - loss: 0.3895 - acc: 0.8251\n",
            "Epoch 80/100\n",
            "7500/7500 [==============================] - 1s 136us/step - loss: 0.4044 - acc: 0.8248\n",
            "Epoch 81/100\n",
            "7500/7500 [==============================] - 1s 137us/step - loss: 0.4076 - acc: 0.8252\n",
            "Epoch 82/100\n",
            "7500/7500 [==============================] - 1s 134us/step - loss: 0.4062 - acc: 0.8260\n",
            "Epoch 83/100\n",
            "7500/7500 [==============================] - 1s 134us/step - loss: 0.4001 - acc: 0.8237\n",
            "Epoch 84/100\n",
            "7500/7500 [==============================] - 1s 138us/step - loss: 0.3934 - acc: 0.8241\n",
            "Epoch 85/100\n",
            "7500/7500 [==============================] - 1s 134us/step - loss: 0.4028 - acc: 0.8261\n",
            "Epoch 86/100\n",
            "7500/7500 [==============================] - 1s 133us/step - loss: 0.3979 - acc: 0.8265\n",
            "Epoch 87/100\n",
            "7500/7500 [==============================] - 1s 134us/step - loss: 0.3985 - acc: 0.8271\n",
            "Epoch 88/100\n",
            "7500/7500 [==============================] - 1s 134us/step - loss: 0.4149 - acc: 0.8244\n",
            "Epoch 89/100\n",
            "7500/7500 [==============================] - 1s 135us/step - loss: 0.4014 - acc: 0.8304\n",
            "Epoch 90/100\n",
            "7500/7500 [==============================] - 1s 135us/step - loss: 0.4000 - acc: 0.8244\n",
            "Epoch 91/100\n",
            "7500/7500 [==============================] - 1s 136us/step - loss: 0.3926 - acc: 0.8257\n",
            "Epoch 92/100\n",
            "7500/7500 [==============================] - 1s 138us/step - loss: 0.3924 - acc: 0.8285\n",
            "Epoch 93/100\n",
            "7500/7500 [==============================] - 1s 135us/step - loss: 0.4085 - acc: 0.8273\n",
            "Epoch 94/100\n",
            "7500/7500 [==============================] - 1s 135us/step - loss: 0.4011 - acc: 0.8280\n",
            "Epoch 95/100\n",
            "7500/7500 [==============================] - 1s 134us/step - loss: 0.4053 - acc: 0.8304\n",
            "Epoch 96/100\n",
            "7500/7500 [==============================] - 1s 138us/step - loss: 0.3980 - acc: 0.8276\n",
            "Epoch 97/100\n",
            "7500/7500 [==============================] - 1s 136us/step - loss: 0.4116 - acc: 0.8305\n",
            "Epoch 98/100\n",
            "7500/7500 [==============================] - 1s 133us/step - loss: 0.4063 - acc: 0.8311\n",
            "Epoch 99/100\n",
            "7500/7500 [==============================] - 1s 137us/step - loss: 0.3958 - acc: 0.8301\n",
            "Epoch 100/100\n",
            "7500/7500 [==============================] - 1s 133us/step - loss: 0.4000 - acc: 0.8285\n"
          ],
          "name": "stdout"
        },
        {
          "output_type": "error",
          "ename": "NameError",
          "evalue": "ignored",
          "traceback": [
            "\u001b[0;31m---------------------------------------------------------------------------\u001b[0m",
            "\u001b[0;31mNameError\u001b[0m                                 Traceback (most recent call last)",
            "\u001b[0;32m<ipython-input-1-11987f37db63>\u001b[0m in \u001b[0;36m<module>\u001b[0;34m()\u001b[0m\n\u001b[1;32m     36\u001b[0m \u001b[0;34m\u001b[0m\u001b[0m\n\u001b[1;32m     37\u001b[0m \u001b[0;34m\u001b[0m\u001b[0m\n\u001b[0;32m---> 38\u001b[0;31m \u001b[0my_pred\u001b[0m\u001b[0;34m=\u001b[0m\u001b[0mclassifier\u001b[0m\u001b[0;34m.\u001b[0m\u001b[0mpredict\u001b[0m\u001b[0;34m(\u001b[0m\u001b[0mX_test\u001b[0m\u001b[0;34m)\u001b[0m\u001b[0;34m\u001b[0m\u001b[0;34m\u001b[0m\u001b[0m\n\u001b[0m\u001b[1;32m     39\u001b[0m \u001b[0my_pred\u001b[0m\u001b[0;34m=\u001b[0m\u001b[0;34m(\u001b[0m\u001b[0my_pred\u001b[0m\u001b[0;34m>\u001b[0m\u001b[0;36m0.5\u001b[0m\u001b[0;34m)\u001b[0m\u001b[0;34m\u001b[0m\u001b[0;34m\u001b[0m\u001b[0m\n\u001b[1;32m     40\u001b[0m \u001b[0;31m#new_prediction=ff.predict(sc.transform(np.array([[0.0,0,600,1,40,3,60000,2]])))\u001b[0m\u001b[0;34m\u001b[0m\u001b[0;34m\u001b[0m\u001b[0;34m\u001b[0m\u001b[0m\n",
            "\u001b[0;31mNameError\u001b[0m: name 'classifier' is not defined"
          ]
        }
      ]
    },
    {
      "metadata": {
        "id": "p24ZRmxRGryH",
        "colab_type": "text"
      },
      "cell_type": "markdown",
      "source": [
        ""
      ]
    },
    {
      "metadata": {
        "id": "uSlro2sS4yVg",
        "colab_type": "code",
        "colab": {}
      },
      "cell_type": "code",
      "source": [
        "\n",
        "y_pred=ff.predict(X_test)\n",
        "y_pred=(y_pred>0.5)\n",
        "#new_prediction=ff.predict(sc.transform(np.array([[0.0,0,600,1,40,3,60000,2]])))\n",
        "\n",
        "\n",
        "\n",
        "\n",
        "from sklearn.metrics import confusion_matrix,accuracy_score\n",
        "\n",
        "cm=confusion_matrix(y_test,y_pred)\n",
        "accuracy=accuracy_score(y_test,y_pred)\n"
      ],
      "execution_count": 0,
      "outputs": []
    },
    {
      "metadata": {
        "id": "NwdRbt21HF72",
        "colab_type": "code",
        "outputId": "2a3430fe-a064-4c89-9f8c-65a3ec159d34",
        "colab": {
          "base_uri": "https://localhost:8080/",
          "height": 51
        }
      },
      "cell_type": "code",
      "source": [
        "cm"
      ],
      "execution_count": 0,
      "outputs": [
        {
          "output_type": "execute_result",
          "data": {
            "text/plain": [
              "array([[1931,   20],\n",
              "       [ 385,  164]])"
            ]
          },
          "metadata": {
            "tags": []
          },
          "execution_count": 3
        }
      ]
    },
    {
      "metadata": {
        "id": "w2O7tZ-VHGul",
        "colab_type": "code",
        "outputId": "1b8e053f-bcbe-40d8-cdb6-272c323b0eab",
        "colab": {
          "base_uri": "https://localhost:8080/",
          "height": 34
        }
      },
      "cell_type": "code",
      "source": [
        "accuracy"
      ],
      "execution_count": 0,
      "outputs": [
        {
          "output_type": "execute_result",
          "data": {
            "text/plain": [
              "0.838"
            ]
          },
          "metadata": {
            "tags": []
          },
          "execution_count": 4
        }
      ]
    },
    {
      "metadata": {
        "id": "h6-N-ra1HIVH",
        "colab_type": "code",
        "colab": {}
      },
      "cell_type": "code",
      "source": [
        ""
      ],
      "execution_count": 0,
      "outputs": []
    }
  ]
}